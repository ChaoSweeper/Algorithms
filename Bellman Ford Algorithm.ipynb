{
 "cells": [
  {
   "cell_type": "markdown",
   "metadata": {},
   "source": [
    "# Bellman-Ford's algorithm using Python\n",
    "#### Python program for Bellman-Ford's single source shortest path algorithm."
   ]
  },
  {
   "cell_type": "code",
   "execution_count": 1,
   "metadata": {},
   "outputs": [
    {
     "name": "stdout",
     "output_type": "stream",
     "text": [
      "Vertex Distance from Source\n",
      "0\t\t0\n",
      "1\t\t-1\n",
      "2\t\t2\n",
      "3\t\t-2\n",
      "4\t\t1\n"
     ]
    }
   ],
   "source": [
    "from sys import maxsize\n",
    "\n",
    "# The main function that finds shortest\n",
    "# distances from src to all other vertices\n",
    "# using Bellman-Ford algorithm. The function\n",
    "# also detects negative weight cycle\n",
    "# The row graph[i] represents i-th edge with\n",
    "# three values u, v and w.\n",
    "\n",
    "\n",
    "def BellmanFord(graph, V, E, src):\n",
    "\n",
    "    # Initialize distance of all vertices as 0.\n",
    "    dis = [maxsize] * V\n",
    "\n",
    "    # initialize distance of source as 0\n",
    "    dis[src] = 0\n",
    "\n",
    "    # Relax all edges |V| - 1 times. A simple\n",
    "    # shortest path from src to any other\n",
    "    # vertex can have at-most |V| - 1 edges\n",
    "    for i in range(V - 1):\n",
    "        for j in range(E):\n",
    "            if dis[graph[j][0]] + graph[j][2] < dis[graph[j][1]]:\n",
    "                dis[graph[j][1]] = dis[graph[j][0]] + graph[j][2]\n",
    "\n",
    "    # check for negative-weight cycles.\n",
    "    # The above step guarantees shortest\n",
    "    # distances if graph doesn't contain\n",
    "    # negative weight cycle. If we get a\n",
    "    # shorter path, then there is a cycle.\n",
    "    for i in range(E):\n",
    "        x = graph[i][0]\n",
    "        y = graph[i][1]\n",
    "        weight = graph[i][2]\n",
    "        if dis[x] != maxsize and dis[x] + weight < dis[y]:\n",
    "            print(\"Graph contains negative weight cycle\")\n",
    "\n",
    "    print(\"Vertex Distance from Source\")\n",
    "    for i in range(V):\n",
    "        print(\"%d\\t\\t%d\" % (i, dis[i]))\n",
    "\n",
    "\n",
    "# Driver Code\n",
    "if __name__ == \"__main__\":\n",
    "    V = 5  # Number of vertices in graph\n",
    "    E = 8  # Number of edges in graph\n",
    "\n",
    "    # Every edge has three values (u, v, w) where\n",
    "    # the edge is from vertex u to v. And weight\n",
    "    # of the edge is w.\n",
    "    graph = [\n",
    "        [0, 1, -1],\n",
    "        [0, 2, 4],\n",
    "        [1, 2, 3],\n",
    "        [1, 3, 2],\n",
    "        [1, 4, 2],\n",
    "        [3, 2, 5],\n",
    "        [3, 1, 1],\n",
    "        [4, 3, -3],\n",
    "    ]\n",
    "    BellmanFord(graph, V, E, 0)"
   ]
  },
  {
   "cell_type": "code",
   "execution_count": null,
   "metadata": {},
   "outputs": [],
   "source": []
  }
 ],
 "metadata": {
  "kernelspec": {
   "display_name": "Python 3",
   "language": "python",
   "name": "python3"
  },
  "language_info": {
   "codemirror_mode": {
    "name": "ipython",
    "version": 3
   },
   "file_extension": ".py",
   "mimetype": "text/x-python",
   "name": "python",
   "nbconvert_exporter": "python",
   "pygments_lexer": "ipython3",
   "version": "3.8.5"
  },
  "toc": {
   "base_numbering": 1,
   "nav_menu": {},
   "number_sections": true,
   "sideBar": true,
   "skip_h1_title": false,
   "title_cell": "Table of Contents",
   "title_sidebar": "Contents",
   "toc_cell": false,
   "toc_position": {},
   "toc_section_display": true,
   "toc_window_display": false
  }
 },
 "nbformat": 4,
 "nbformat_minor": 4
}
